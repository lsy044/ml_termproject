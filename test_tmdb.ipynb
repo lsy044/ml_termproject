{
 "cells": [
  {
   "cell_type": "markdown",
   "metadata": {},
   "source": [
    "### 데이터가공함수 미리정의\n",
    "\n",
    "- lambda 인자: 표현식\n",
    "```\n",
    "add = lambda a,b: a+b  \n",
    "# def add(a,b):\n",
    "#    return a+b \n",
    "```\n",
    "\n",
    "- apply함수\n",
    "```\n",
    "DataFrame명.apply(lambda x : x함수/조건식)\n",
    "```\n",
    "\n",
    "\n",
    "\n"
   ]
  },
  {
   "cell_type": "code",
   "execution_count": 6,
   "metadata": {},
   "outputs": [],
   "source": [
    "import json\n",
    "import pandas as pd \n",
    "\n",
    "def load_tmdb_movies(path):\n",
    "    df = pd.read_csv(path)\n",
    "    \n",
    "    # \n",
    "    df['release_date'] = pd.to_datetime(df['release_date']).apply(lambda x: x.date())\n",
    "    #\n",
    "    \n",
    "    json_columns = ['genres','keywords','production_countries','production_companies','spoken_languages']\n",
    "    for column in json_columns:\n",
    "        df[column] = df[column].apply(json.loads)\n",
    "    return df\n"
   ]
  },
  {
   "cell_type": "code",
   "execution_count": null,
   "metadata": {},
   "outputs": [],
   "source": [
    "# load the dataset\n",
    "credits = load_tmdb_credits(\"../input/tmdb-movie-metadata/tmdb_5000_credits.csv\")"
   ]
  }
 ],
 "metadata": {
  "kernelspec": {
   "display_name": "Python 3",
   "language": "python",
   "name": "python3"
  },
  "language_info": {
   "codemirror_mode": {
    "name": "ipython",
    "version": 3
   },
   "file_extension": ".py",
   "mimetype": "text/x-python",
   "name": "python",
   "nbconvert_exporter": "python",
   "pygments_lexer": "ipython3",
   "version": "3.7.3"
  }
 },
 "nbformat": 4,
 "nbformat_minor": 2
}
